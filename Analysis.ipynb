{
 "cells": [
  {
   "cell_type": "code",
   "execution_count": null,
   "metadata": {},
   "outputs": [],
   "source": [
    "from db_utils import RDSDatabaseConnector, load_data_from_csv\n",
    "import pandas as pd\n",
    "import numpy as np\n",
    "from pandas.tseries.offsets import DateOffset\n",
    "from DataFormat import DataFormat\n",
    "from DataFrameInfo import DataFrameInfo\n",
    "from DataTransform import DataFrameTransform\n",
    "from Plotter import Plotter, plot_percentage_bar_chart, plot_categorical_pie_charts\n",
    "import statsmodels.formula.api as sms\n"
   ]
  },
  {
   "cell_type": "code",
   "execution_count": null,
   "metadata": {},
   "outputs": [],
   "source": [
    "#Load Data\n",
    "#We need the data before the transformations were applied\n",
    "df = load_data_from_csv('C:\\\\Users\\\\Gurpr\\\\OneDrive\\\\Documents\\\\AI Core\\\\Exploratory Data Analysis - Customer Loans in Finance\\\\Data\\\\Transformed_and_Formatted_loan_data.csv')\n",
    "\n",
    "#Create a new columns for term length and total expected revenue for analysis \n",
    "df['term_numeric'] = df['term'].str.extract('(\\d+)').astype(int)\n",
    "df['total_expected_revenue'] = df['instalment']*df['term_numeric']\n",
    "df['payments_made'] = df['total_payment'] / df['instalment']\n",
    "df['months_left'] = df['term_numeric'] - df['payments_made']\n",
    "#To calculate the current loan recovery status, we can use the total payments and funded amount columns, since if they are equal then \n",
    "#the loan has been repaid. \n",
    "\n",
    "df['loan_recovery_status_ratio_inv'] = ( df['total_payment'] / df['funded_amount_inv'])\n",
    "\n",
    "df['loan_recovery_status_ratio'] = (df['total_payment'] / df['funded_amount'])\n",
    "\n",
    "#Creates a Boolean column to show if the loan has been repaid (True) or not (False)\n",
    "df['loan_recovered_inv'] = df['loan_recovery_status_ratio_inv'].ge(1)\n",
    "df['loan_recovered'] = df['loan_recovery_status_ratio'].ge(1)\n",
    "\n",
    "\n",
    "loan_true_values_inv = (df['loan_recovered_inv']== True).sum()\n",
    "loan_true_values = (df['loan_recovered']== True).sum()\n",
    "\n",
    "percentage_of_loans_recovered_inv = round(loan_true_values_inv/ len(df['loan_recovered_inv']) * 100, 3)\n",
    "percentage_of_loans_recovered = round(loan_true_values/ len(df['loan_recovered']) * 100, 3)\n",
    "\n",
    "print(percentage_of_loans_recovered_inv)\n",
    "print(percentage_of_loans_recovered)\n",
    "#Plot Bar chart \n",
    "\n",
    "y = [percentage_of_loans_recovered_inv, percentage_of_loans_recovered]\n",
    "x = ['percentage_of_loans_recovered_inv', 'percentage_of_loans_recovered']\n",
    "plot_percentage_bar_chart(x,y, 'Percentage of Loans Recovered')"
   ]
  },
  {
   "cell_type": "markdown",
   "metadata": {},
   "source": [
    "The respective loan recovery rates are shown in the bar chart. \n"
   ]
  },
  {
   "cell_type": "markdown",
   "metadata": {},
   "source": [
    "Calculating loan recovery in 6 months\n",
    "\n",
    "We will use the monthly instalments column and multiply iy by 6 (months) and add it to the total payments column to \n",
    "calculate how much the customer would have paid nack in 6 months time, then compare with the funded amount to see if the loan has been repaid or not."
   ]
  },
  {
   "cell_type": "code",
   "execution_count": null,
   "metadata": {},
   "outputs": [],
   "source": [
    "\n",
    "copy_df = df[~df['loan_recovered']].copy()\n",
    "copy_df['total_payment_in_6_months'] = copy_df['total_payment'] + (6*copy_df['instalment'])\n",
    "\n",
    "copy_df['6months_loan_recovery_status_ratio'] = (copy_df['total_payment_in_6_months']/ copy_df['funded_amount'])\n",
    "\n",
    "#Creates a Boolean column to show if the loan has been repaid (True) or not (False)\n",
    "copy_df['6months_loan_recovered'] = copy_df['6months_loan_recovery_status_ratio'].ge(1)\n",
    "\n",
    "six_months_loan_true_values = (copy_df['6months_loan_recovered']== True).sum()\n",
    "six_months_percentage_of_loans_recovered = round(six_months_loan_true_values/ len(copy_df['6months_loan_recovered']) * 100, 3)\n",
    "\n",
    "\n",
    "print(six_months_percentage_of_loans_recovered)\n",
    "percentage_recovered_in_6months = round(six_months_loan_true_values/len(df)*100,3)\n",
    "print(percentage_recovered_in_6months)"
   ]
  },
  {
   "cell_type": "markdown",
   "metadata": {},
   "source": [
    "Calculating loans recovered at the end of each month "
   ]
  },
  {
   "cell_type": "code",
   "execution_count": null,
   "metadata": {},
   "outputs": [],
   "source": [
    "six_month_df = df[~df['loan_recovered']].copy()\n",
    "\n",
    "six_month_df['one_month'] = six_month_df['total_payment'] + (six_month_df['instalment'])\n",
    "six_month_df['two_months'] = six_month_df['total_payment'] + (2*six_month_df['instalment'])\n",
    "six_month_df['three_months'] = six_month_df['total_payment'] + (3*six_month_df['instalment'])\n",
    "six_month_df['four_months'] = six_month_df['total_payment'] + (4*six_month_df['instalment'])\n",
    "six_month_df['five_months'] = six_month_df['total_payment'] + (5*six_month_df['instalment'])\n",
    "six_month_df['six_months'] = six_month_df['total_payment'] + (6*six_month_df['instalment'])\n",
    "\n",
    "\n",
    "one_month_count = len(six_month_df[six_month_df['one_month'] > six_month_df['funded_amount']])\n",
    "two_month_count = len(six_month_df[six_month_df['two_months'] > six_month_df['funded_amount']])\n",
    "three_month_count = len(six_month_df[six_month_df['three_months'] > six_month_df['funded_amount']])\n",
    "four_month_count = len(six_month_df[six_month_df['four_months'] > six_month_df['funded_amount']])\n",
    "five_month_count = len(six_month_df[six_month_df['five_months'] > six_month_df['funded_amount']])\n",
    "six_month_count = len(six_month_df[six_month_df['six_months'] > six_month_df['funded_amount']])\n",
    "\n",
    "\n",
    "one_month_percent = round(((one_month_count + loan_true_values)/ len(df))*100,3)\n",
    "two_month_percent = round(((two_month_count + loan_true_values)/ len(df))*100,3)\n",
    "three_month_percent = round(((three_month_count + loan_true_values)/ len(df))*100,3)\n",
    "four_month_percent = round(((four_month_count + loan_true_values)/ len(df))*100,3)\n",
    "five_month_percent = round(((five_month_count + loan_true_values)/ len(df))*100,3)\n",
    "six_month_percent = round(((six_month_count + loan_true_values)/ len(df))*100,3)\n",
    "\n",
    "print(one_month_count)\n",
    "print(six_month_count)\n",
    "y = [one_month_percent,two_month_percent,three_month_percent,four_month_percent,five_month_percent,six_month_percent]\n",
    "x = ['1 month', '2 Months', '3 Months', '4 Months', '5 Months', '6 Months']\n",
    "plot_percentage_bar_chart(x,y, 'Peercentage of Loans Recovered for the next 6 months')"
   ]
  },
  {
   "cell_type": "markdown",
   "metadata": {},
   "source": [
    "Charged off"
   ]
  },
  {
   "cell_type": "code",
   "execution_count": null,
   "metadata": {},
   "outputs": [],
   "source": [
    "\n",
    "charged_off_df = df[df['loan_status'] == 'Charged Off'].copy()\n",
    "\n",
    "#Percentage charged off\n",
    "percentage_charged_off = round((len(charged_off_df) / len(df)) * 100, 3)\n",
    "print(percentage_charged_off)\n",
    "\n",
    "#Total paid out\n",
    "paid_total = round(sum(charged_off_df['funded_amount']), 2)\n",
    "print(paid_total)\n",
    "\n",
    "#Projected Loss\n",
    "profit_loss = round(sum(charged_off_df['total_expected_revenue']-charged_off_df['funded_amount']),2)\n",
    "print(profit_loss) "
   ]
  },
  {
   "cell_type": "markdown",
   "metadata": {},
   "source": [
    "Possible Loss"
   ]
  },
  {
   "cell_type": "code",
   "execution_count": null,
   "metadata": {},
   "outputs": [],
   "source": [
    "#Creating a df with Late repayments \n",
    "total_late = df['loan_status'].str.contains('Late')\n",
    "late_df = df.loc[total_late].copy()\n",
    "\n",
    "#Late/total percentage\n",
    "percentage_behind = round((len(late_df)/len(df))*100, 3)\n",
    "print(percentage_behind)\n",
    "\n",
    "\n",
    "#Amount left to  pay\n",
    "\n",
    "late_df['total_amount_left'] = late_df['instalment'] * late_df['months_left']\n",
    "projected_loss = round(sum(late_df['total_amount_left']),2)\n",
    "print(projected_loss)\n",
    "\n",
    "#Percentage if loan changed to charge off\n",
    "new_total = round(((len(late_df) + len(charged_off_df))/len(df))*100,3)\n",
    "print(new_total)"
   ]
  },
  {
   "cell_type": "markdown",
   "metadata": {},
   "source": [
    "Indicators of Loss"
   ]
  },
  {
   "cell_type": "code",
   "execution_count": null,
   "metadata": {},
   "outputs": [],
   "source": [
    "#New df of fully paid loans and Current\n",
    "fully_paid_df = df[df['loan_status'] == 'Fully Paid'].copy()\n",
    "current_loans_df = df[df['loan_status'] == 'Current'].copy()\n",
    "# List of columns for comparison \n",
    "indicator_cols = ['grade','inq_last_6mths' , 'verification_status', 'open_accounts','application_type','purpose', 'home_ownership','employment_length']\n",
    "\n",
    "plot_categorical_pie_charts('grade',fully_paid_df, charged_off_df,late_df)\n",
    "plot_categorical_pie_charts('inq_last_6mths',fully_paid_df, charged_off_df,late_df)\n",
    "plot_categorical_pie_charts('verification_status',fully_paid_df, charged_off_df,late_df)\n",
    "plot_categorical_pie_charts('open_accounts',fully_paid_df, charged_off_df,late_df)\n",
    "plot_categorical_pie_charts('application_type',fully_paid_df, charged_off_df,late_df)\n",
    "plot_categorical_pie_charts('purpose',fully_paid_df, charged_off_df,late_df)\n",
    "plot_categorical_pie_charts('home_ownership',fully_paid_df, charged_off_df,late_df)\n",
    "plot_categorical_pie_charts('employment_length',fully_paid_df, charged_off_df,late_df)"
   ]
  },
  {
   "cell_type": "markdown",
   "metadata": {},
   "source": [
    "Key takeaways: \n",
    "\n",
    "No indicator stands out by a significant margin that could allow us to guess if a customer would defualt on their loan.\n",
    "Although, customers with unverified verification status and renters for home ownership are slightly more likely to defualt on thier lown repayment "
   ]
  }
 ],
 "metadata": {
  "kernelspec": {
   "display_name": "base",
   "language": "python",
   "name": "python3"
  },
  "language_info": {
   "codemirror_mode": {
    "name": "ipython",
    "version": 3
   },
   "file_extension": ".py",
   "mimetype": "text/x-python",
   "name": "python",
   "nbconvert_exporter": "python",
   "pygments_lexer": "ipython3",
   "version": "3.9.13"
  }
 },
 "nbformat": 4,
 "nbformat_minor": 2
}
